{
 "cells": [
  {
   "cell_type": "markdown",
   "id": "6fc57d4d-f93f-4630-8252-de2b56778d6e",
   "metadata": {},
   "source": [
    "# Elasticsearch\n",
    "\n",
    "Součástí celého projektu jsou 3 konteinery\n",
    "**Elasticsearch**\n",
    "**Kibana**\n",
    "**Jupyter**\n",
    "\n",
    "**Elasticsearch**se používá pro samostatné fulltextové vyhledávání ve vytvořených dokumentech pomocí REST API (možné se dotazovat pomocí zadání odpovídající URL bez nutnosti stahování speciálního klienta)\n",
    "\n",
    "Elasticsearch není realční databáze, jedná se o dokumentové uložiště, kde *Dokument* je soubor ve formátu JSON, kam se ukládají data a v nichž bude probíhat vyhledávání. Samotný dokument je tvořen *Fields* různých datových typů. Elasticseach je vytváří sám na základě struktury dokumentu. Dokumenty jsou ukládány do *indexu* což je obdoba databázového schématu v relační databázi. V rámci indexu jsou definovány *type* (typy), který označuje skupinu dokumentů obdobného tvaru\n",
    "\n",
    "**Kibana** je grafické rozhraní, které mí pracovat s ES a vizualizovat jeho data. Součástí je editor, který umí vykonávat zadané příkazy a zvýrazňuje syntaxi. Pro tento účel slouží pouze jako pomocný nástroj pro kontrolu a lepší přehlednost.\n",
    "\n",
    "**Jupyter** Webové rozhraní, ve kterém se projekt uskutečnil.\n",
    "\n",
    "## Zprovoznění dockeru\n",
    "\n",
    "Součástí celého projektu musí být český slovník (hunspell), který obsahuje 3 soubory (cs_CZ.aff, cs_CZ.dic, settings.yml). Tyto 3 soubory je třeba uložit do složky elasticsearch-8.2.0/config/hunspell/cs._CZ. To se provádí v souboru docker-compose v samotném **es01** ve *volumes*.\n",
    "\n",
    "Zároveň je třeba stáhnout do ES **plugin ICU**, který se se de ES stahuje pomocí Dockerfilu příkazem *RUN /usr/share/elasticsearch/bin/elasticsearch-plugin install analysis-icu*"
   ]
  }
 ],
 "metadata": {
  "kernelspec": {
   "display_name": "Python 3 (ipykernel)",
   "language": "python",
   "name": "python3"
  },
  "language_info": {
   "codemirror_mode": {
    "name": "ipython",
    "version": 3
   },
   "file_extension": ".py",
   "mimetype": "text/x-python",
   "name": "python",
   "nbconvert_exporter": "python",
   "pygments_lexer": "ipython3",
   "version": "3.11.4"
  }
 },
 "nbformat": 4,
 "nbformat_minor": 5
}
