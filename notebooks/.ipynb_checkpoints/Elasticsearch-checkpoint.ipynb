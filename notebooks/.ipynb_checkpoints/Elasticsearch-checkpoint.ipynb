{
 "cells": [
  {
   "cell_type": "code",
   "execution_count": 1,
   "id": "6eb3415a-970e-487a-9c91-a68b2707fed2",
   "metadata": {
    "tags": []
   },
   "outputs": [],
   "source": [
    "esHost = 'http://es01:9200'"
   ]
  },
  {
   "cell_type": "markdown",
   "id": "af75b299-1c56-4e59-a82f-998a0e846ab7",
   "metadata": {},
   "source": [
    "Musí být stejný jako jmeno elasticsearche v docker-compose.yaml"
   ]
  },
  {
   "cell_type": "code",
   "execution_count": 3,
   "id": "9d7a7bf7-8ef7-47fd-b97d-e4b0c499257d",
   "metadata": {
    "tags": []
   },
   "outputs": [
    {
     "name": "stdout",
     "output_type": "stream",
     "text": [
      "{\"error\":{\"root_cause\":[{\"type\":\"index_not_found_exception\",\"reason\":\"no such index [test-index]\",\"resource.type\":\"index_or_alias\",\"resource.id\":\"test-index\",\"index_uuid\":\"_na_\",\"index\":\"test-index\"}],\"type\":\"index_not_found_exception\",\"reason\":\"no such index [test-index]\",\"resource.type\":\"index_or_alias\",\"resource.id\":\"test-index\",\"index_uuid\":\"_na_\",\"index\":\"test-index\"},\"status\":404}\n"
     ]
    }
   ],
   "source": [
    "import requests\n",
    "response = requests.get(f'{esHost}/test-index')\n",
    "print(response.text)"
   ]
  },
  {
   "cell_type": "markdown",
   "id": "77d7e1e4-8455-47e1-85ba-b9e4718d4017",
   "metadata": {},
   "source": [
    "# Instalace knihovnky pro python"
   ]
  },
  {
   "cell_type": "code",
   "execution_count": 3,
   "id": "fe42ec82-5801-4eb9-bd44-a9f3a3db13af",
   "metadata": {
    "tags": []
   },
   "outputs": [
    {
     "name": "stdout",
     "output_type": "stream",
     "text": [
      "Collecting elasticsearch[async]\n",
      "  Downloading elasticsearch-8.7.0-py3-none-any.whl (387 kB)\n",
      "\u001b[2K     \u001b[90m━━━━━━━━━━━━━━━━━━━━━━━━━━━━━━━━━━━━━━━\u001b[0m \u001b[32m387.9/387.9 kB\u001b[0m \u001b[31m6.6 MB/s\u001b[0m eta \u001b[36m0:00:00\u001b[0ma \u001b[36m0:00:01\u001b[0m\n",
      "\u001b[?25hCollecting elastic-transport<9,>=8 (from elasticsearch[async])\n",
      "  Downloading elastic_transport-8.4.0-py3-none-any.whl (59 kB)\n",
      "\u001b[2K     \u001b[90m━━━━━━━━━━━━━━━━━━━━━━━━━━━━━━━━━━━━━━━━\u001b[0m \u001b[32m59.5/59.5 kB\u001b[0m \u001b[31m5.3 MB/s\u001b[0m eta \u001b[36m0:00:00\u001b[0m\n",
      "\u001b[?25hRequirement already satisfied: aiohttp<4,>=3 in /opt/conda/lib/python3.10/site-packages (from elasticsearch[async]) (3.7.4.post0)\n",
      "Requirement already satisfied: attrs>=17.3.0 in /opt/conda/lib/python3.10/site-packages (from aiohttp<4,>=3->elasticsearch[async]) (22.2.0)\n",
      "Requirement already satisfied: chardet<5.0,>=2.0 in /opt/conda/lib/python3.10/site-packages (from aiohttp<4,>=3->elasticsearch[async]) (4.0.0)\n",
      "Requirement already satisfied: multidict<7.0,>=4.5 in /opt/conda/lib/python3.10/site-packages (from aiohttp<4,>=3->elasticsearch[async]) (6.0.4)\n",
      "Requirement already satisfied: async-timeout<4.0,>=3.0 in /opt/conda/lib/python3.10/site-packages (from aiohttp<4,>=3->elasticsearch[async]) (3.0.1)\n",
      "Requirement already satisfied: yarl<2.0,>=1.0 in /opt/conda/lib/python3.10/site-packages (from aiohttp<4,>=3->elasticsearch[async]) (1.9.1)\n",
      "Requirement already satisfied: typing-extensions>=3.6.5 in /opt/conda/lib/python3.10/site-packages (from aiohttp<4,>=3->elasticsearch[async]) (4.5.0)\n",
      "Requirement already satisfied: urllib3<2,>=1.26.2 in /opt/conda/lib/python3.10/site-packages (from elastic-transport<9,>=8->elasticsearch[async]) (1.26.15)\n",
      "Requirement already satisfied: certifi in /opt/conda/lib/python3.10/site-packages (from elastic-transport<9,>=8->elasticsearch[async]) (2022.12.7)\n",
      "Requirement already satisfied: idna>=2.0 in /opt/conda/lib/python3.10/site-packages (from yarl<2.0,>=1.0->aiohttp<4,>=3->elasticsearch[async]) (3.4)\n",
      "Installing collected packages: elastic-transport, elasticsearch\n",
      "Successfully installed elastic-transport-8.4.0 elasticsearch-8.7.0\n"
     ]
    }
   ],
   "source": [
    "!pip install elasticsearch[async]\n"
   ]
  },
  {
   "cell_type": "markdown",
   "id": "368c7afe-7f96-463b-b78d-8d98f353d049",
   "metadata": {},
   "source": [
    "# Fulltextové vyhledávání v češtině"
   ]
  },
  {
   "cell_type": "markdown",
   "id": "feaf9bc7-f323-4ac6-bb6d-00bbeeb69441",
   "metadata": {},
   "source": [
    "## Mazání indexu"
   ]
  },
  {
   "cell_type": "code",
   "execution_count": 4,
   "id": "16b2ca36-eb4b-4510-a36f-96a4aed59af2",
   "metadata": {
    "tags": []
   },
   "outputs": [
    {
     "name": "stdout",
     "output_type": "stream",
     "text": [
      "{\"acknowledged\":true}\n"
     ]
    }
   ],
   "source": [
    "import requests\n",
    "response = requests.delete(f'{esHost}/products')\n",
    "print(response.text)"
   ]
  },
  {
   "cell_type": "markdown",
   "id": "5d0d19b0-fa9f-4890-883a-3f06649f0781",
   "metadata": {
    "tags": []
   },
   "source": [
    "## Vytvoření indexu"
   ]
  },
  {
   "cell_type": "code",
   "execution_count": 7,
   "id": "a8154603-d974-41eb-93ee-3c200293eccd",
   "metadata": {
    "tags": []
   },
   "outputs": [
    {
     "name": "stdout",
     "output_type": "stream",
     "text": [
      "{\"error\":{\"root_cause\":[{\"type\":\"resource_already_exists_exception\",\"reason\":\"index [products/snnPIAOCTEe43GU2w_2KzQ] already exists\",\"index_uuid\":\"snnPIAOCTEe43GU2w_2KzQ\",\"index\":\"products\"}],\"type\":\"resource_already_exists_exception\",\"reason\":\"index [products/snnPIAOCTEe43GU2w_2KzQ] already exists\",\"index_uuid\":\"snnPIAOCTEe43GU2w_2KzQ\",\"index\":\"products\"},\"status\":400}\n"
     ]
    }
   ],
   "source": [
    "doc = {\n",
    "    \"settings\" : {\n",
    "        \"index\" : {\n",
    "            \"number_of_shards\" : 1, \n",
    "            \"number_of_replicas\" : 0 \n",
    "        }\n",
    "    },\n",
    "    \"mappings\": {\n",
    "        \"properties\": {\n",
    "          \"age\":    { \"type\": \"integer\" },  \n",
    "          \"email\":  { \"type\": \"keyword\"  }, \n",
    "          \"name\":   { \"type\": \"text\"  }     \n",
    "        }\n",
    "    }\n",
    "}\n",
    "import requests\n",
    "response = requests.put(f'{esHost}/products', json=doc)\n",
    "print(response.text)"
   ]
  },
  {
   "cell_type": "markdown",
   "id": "410f663a-f15e-4b59-8b18-4ac45f6e6383",
   "metadata": {},
   "source": [
    "## Kontrola nastavení indexu"
   ]
  },
  {
   "cell_type": "code",
   "execution_count": 8,
   "id": "bc403c6c-4748-4b40-96b5-6ed731ceabe4",
   "metadata": {
    "tags": []
   },
   "outputs": [
    {
     "name": "stdout",
     "output_type": "stream",
     "text": [
      "{\"products\":{\"settings\":{\"index\":{\"routing\":{\"allocation\":{\"include\":{\"_tier_preference\":\"data_content\"}}},\"number_of_shards\":\"1\",\"provided_name\":\"products\",\"creation_date\":\"1684248072028\",\"number_of_replicas\":\"0\",\"uuid\":\"snnPIAOCTEe43GU2w_2KzQ\",\"version\":{\"created\":\"8020099\"}}}}}\n"
     ]
    }
   ],
   "source": [
    "import requests\n",
    "response = requests.get(f'{esHost}/products/_settings')\n",
    "print(response.text)"
   ]
  },
  {
   "cell_type": "markdown",
   "id": "9f6b278b-c902-4f1b-b545-9b8900f5e557",
   "metadata": {},
   "source": [
    "## Vlastnosti indexu"
   ]
  },
  {
   "cell_type": "code",
   "execution_count": 9,
   "id": "865ba344-3bb7-4635-a7d3-e428d53f69b4",
   "metadata": {
    "tags": []
   },
   "outputs": [
    {
     "name": "stdout",
     "output_type": "stream",
     "text": [
      "{\"products\":{\"mappings\":{\"properties\":{\"age\":{\"type\":\"integer\"},\"email\":{\"type\":\"keyword\"},\"name\":{\"type\":\"text\"}}}}}\n"
     ]
    }
   ],
   "source": [
    "import requests\n",
    "response = requests.get(f'{esHost}/products/_mapping')\n",
    "print(response.text)"
   ]
  },
  {
   "cell_type": "markdown",
   "id": "f0de2e67-ec9b-4864-857c-2d28fa5e5e67",
   "metadata": {},
   "source": [
    "# Vkládání dokumentu do indexu"
   ]
  },
  {
   "cell_type": "code",
   "execution_count": 10,
   "id": "4d4197a8-5400-46e2-9ac3-039fdaa5125d",
   "metadata": {
    "tags": []
   },
   "outputs": [
    {
     "name": "stdout",
     "output_type": "stream",
     "text": [
      "{\"_index\":\"products\",\"_id\":\"M0kPJYgBm6YJMT52MFfs\",\"_version\":1,\"result\":\"created\",\"_shards\":{\"total\":1,\"successful\":1,\"failed\":0},\"_seq_no\":0,\"_primary_term\":1}\n"
     ]
    }
   ],
   "source": [
    "doc = {\n",
    "    \"age\": 26,\n",
    "    \"email\": \"someone@somewhere.world\",  \n",
    "    \"name\": \"Someone John\"\n",
    "}\n",
    "\n",
    "import requests\n",
    "response = requests.post(f'{esHost}/products/_doc', json=doc)\n",
    "print(response.text)"
   ]
  },
  {
   "cell_type": "code",
   "execution_count": 11,
   "id": "0c6619e2-9f0a-438d-99ff-561e4b72f30e",
   "metadata": {
    "tags": []
   },
   "outputs": [
    {
     "name": "stdout",
     "output_type": "stream",
     "text": [
      "{\"_index\":\"products\",\"_id\":\"NEkPJYgBm6YJMT52Y1d8\",\"_version\":1,\"result\":\"created\",\"_shards\":{\"total\":1,\"successful\":1,\"failed\":0},\"_seq_no\":1,\"_primary_term\":1}\n"
     ]
    }
   ],
   "source": [
    "doc = {\n",
    "    \"age\": \"26\",\n",
    "    \"email\": \"some@somewhere.world\",  \n",
    "    \"name\": 4785\n",
    "}\n",
    "\n",
    "import requests\n",
    "response = requests.post(f'{esHost}/products/_doc', json=doc)\n",
    "print(response.text)"
   ]
  },
  {
   "cell_type": "markdown",
   "id": "bcf52537-8b22-4574-935c-0fed585e61de",
   "metadata": {},
   "source": [
    "## Query dle emailu"
   ]
  },
  {
   "cell_type": "code",
   "execution_count": 16,
   "id": "a624d674-8d76-45c6-8bd7-d9d00134f27f",
   "metadata": {
    "tags": []
   },
   "outputs": [
    {
     "name": "stdout",
     "output_type": "stream",
     "text": [
      "{\"took\":23,\"timed_out\":false,\"_shards\":{\"total\":1,\"successful\":1,\"skipped\":0,\"failed\":0},\"hits\":{\"total\":{\"value\":1,\"relation\":\"eq\"},\"max_score\":0.6931471,\"hits\":[{\"_index\":\"products\",\"_id\":\"M0kPJYgBm6YJMT52MFfs\",\"_score\":0.6931471,\"_source\":{\"age\": 26, \"email\": \"someone@somewhere.world\", \"name\": \"Someone John\"}}]}}\n"
     ]
    }
   ],
   "source": [
    "doc = {\n",
    "   \"query\":{\n",
    "      \"match\" : {\n",
    "         \"email\":\"someone@somewhere.world\"\n",
    "      }\n",
    "   }\n",
    "}\n",
    "\n",
    "import requests\n",
    "response = requests.post(f'{esHost}/products*/_search', json=doc)\n",
    "print(response.text)"
   ]
  },
  {
   "cell_type": "markdown",
   "id": "718ff7aa-f24b-44d9-9eb6-c80cac98f805",
   "metadata": {},
   "source": [
    "# Analyzer"
   ]
  },
  {
   "cell_type": "code",
   "execution_count": 22,
   "id": "d9750af1-54c2-4b77-a45c-3ea501aaa49f",
   "metadata": {
    "tags": []
   },
   "outputs": [
    {
     "name": "stdout",
     "output_type": "stream",
     "text": [
      "{\"tokens\":[{\"token\":\"the\",\"start_offset\":0,\"end_offset\":3,\"type\":\"<ALPHANUM>\",\"position\":0},{\"token\":\"2\",\"start_offset\":4,\"end_offset\":5,\"type\":\"<NUM>\",\"position\":1},{\"token\":\"quick\",\"start_offset\":6,\"end_offset\":11,\"type\":\"<ALPHANUM>\",\"position\":2},{\"token\":\"brown\",\"start_offset\":12,\"end_offset\":17,\"type\":\"<ALPHANUM>\",\"position\":3},{\"token\":\"foxes\",\"start_offset\":18,\"end_offset\":23,\"type\":\"<ALPHANUM>\",\"position\":4},{\"token\":\"jumped\",\"start_offset\":24,\"end_offset\":30,\"type\":\"<ALPHANUM>\",\"position\":5},{\"token\":\"over\",\"start_offset\":31,\"end_offset\":35,\"type\":\"<ALPHANUM>\",\"position\":6},{\"token\":\"the\",\"start_offset\":36,\"end_offset\":39,\"type\":\"<ALPHANUM>\",\"position\":7},{\"token\":\"lazy\",\"start_offset\":40,\"end_offset\":44,\"type\":\"<ALPHANUM>\",\"position\":8},{\"token\":\"dog's\",\"start_offset\":45,\"end_offset\":50,\"type\":\"<ALPHANUM>\",\"position\":9},{\"token\":\"bone\",\"start_offset\":51,\"end_offset\":55,\"type\":\"<ALPHANUM>\",\"position\":10}]}\n"
     ]
    }
   ],
   "source": [
    "doc = {\n",
    "  \"analyzer\": \"standard\",\n",
    "  \"text\": \"The 2 QUICK Brown-Foxes jumped over the lazy dog's bone.\"\n",
    "}\n",
    "\n",
    "import requests\n",
    "response = requests.post(f'{esHost}/_analyze', json=doc)\n",
    "print(response.text)"
   ]
  },
  {
   "cell_type": "code",
   "execution_count": 23,
   "id": "fe81f498-ef55-4111-a07c-4047014adb83",
   "metadata": {
    "tags": []
   },
   "outputs": [
    {
     "name": "stdout",
     "output_type": "stream",
     "text": [
      "{\"tokens\":[{\"token\":\"the\",\"start_offset\":0,\"end_offset\":3,\"type\":\"<ALPHANUM>\",\"position\":0\n",
      "{\"token\":\"2\",\"start_offset\":4,\"end_offset\":5,\"type\":\"<NUM>\",\"position\":1\n",
      "{\"token\":\"quick\",\"start_offset\":6,\"end_offset\":11,\"type\":\"<ALPHANUM>\",\"position\":2\n",
      "{\"token\":\"brown\",\"start_offset\":12,\"end_offset\":17,\"type\":\"<ALPHANUM>\",\"position\":3\n",
      "{\"token\":\"foxes\",\"start_offset\":18,\"end_offset\":23,\"type\":\"<ALPHANUM>\",\"position\":4\n",
      "{\"token\":\"jumped\",\"start_offset\":24,\"end_offset\":30,\"type\":\"<ALPHANUM>\",\"position\":5\n",
      "{\"token\":\"over\",\"start_offset\":31,\"end_offset\":35,\"type\":\"<ALPHANUM>\",\"position\":6\n",
      "{\"token\":\"the\",\"start_offset\":36,\"end_offset\":39,\"type\":\"<ALPHANUM>\",\"position\":7\n",
      "{\"token\":\"lazy\",\"start_offset\":40,\"end_offset\":44,\"type\":\"<ALPHANUM>\",\"position\":8\n",
      "{\"token\":\"dog's\",\"start_offset\":45,\"end_offset\":50,\"type\":\"<ALPHANUM>\",\"position\":9\n",
      "{\"token\":\"bone\",\"start_offset\":51,\"end_offset\":55,\"type\":\"<ALPHANUM>\",\"position\":10}]}\n"
     ]
    }
   ],
   "source": [
    "doc = {\n",
    "  \"analyzer\": \"standard\",\n",
    "  \"text\": \"The 2 QUICK Brown-Foxes jumped over the lazy dog's bone.\"\n",
    "}\n",
    "\n",
    "import requests\n",
    "response = requests.post(f'{esHost}/_analyze', json=doc)\n",
    "\n",
    "txt = response.text\n",
    "x = txt.split('},')\n",
    "print(*x, sep = \"\\n\")"
   ]
  },
  {
   "cell_type": "code",
   "execution_count": 24,
   "id": "a873488c-5821-4001-91cb-c931962234a7",
   "metadata": {
    "tags": []
   },
   "outputs": [
    {
     "name": "stdout",
     "output_type": "stream",
     "text": [
      "{'products': {'aliases': {}, 'mappings': {'properties': {'age': {'type': 'integer'}, 'email': {'type': 'keyword'}, 'name': {'type': 'text'}}}, 'settings': {'index': {'routing': {'allocation': {'include': {'_tier_preference': 'data_content'}}}, 'number_of_shards': '1', 'provided_name': 'products', 'creation_date': '1684248072028', 'number_of_replicas': '0', 'uuid': 'snnPIAOCTEe43GU2w_2KzQ', 'version': {'created': '8020099'}}}}}\n"
     ]
    }
   ],
   "source": [
    "import requests\n",
    "response = requests.get(f'{esHost}/products')\n",
    "responseJson = response.json()\n",
    "print(responseJson)"
   ]
  },
  {
   "cell_type": "code",
   "execution_count": 25,
   "id": "4aab2c8e-a0d5-430b-b776-f16f3ba59b98",
   "metadata": {
    "tags": []
   },
   "outputs": [
    {
     "name": "stdout",
     "output_type": "stream",
     "text": [
      "{\"acknowledged\":true}\n",
      "{'acknowledged': True, 'shards_acknowledged': True, 'index': 'products'}\n"
     ]
    }
   ],
   "source": [
    "import requests\n",
    "response = requests.delete(f'{esHost}/products')\n",
    "print(response.text)\n",
    "\n",
    "doc = {\n",
    "  \"settings\": {\n",
    "    \"analysis\": {\n",
    "      \"analyzer\": {\n",
    "        \"my_english_analyzer\": {\n",
    "          \"type\": \"standard\",\n",
    "          \"max_token_length\": 5,\n",
    "          \"stopwords\": \"_english_\"\n",
    "        }\n",
    "      }\n",
    "    }\n",
    "  }\n",
    "}\n",
    "\n",
    "import requests\n",
    "response = requests.put(f'{esHost}/products', json=doc)\n",
    "responseJson = response.json()\n",
    "print(responseJson)"
   ]
  },
  {
   "cell_type": "code",
   "execution_count": 29,
   "id": "5000fafb-32bf-4d53-8df0-311ba7e91695",
   "metadata": {
    "tags": []
   },
   "outputs": [
    {
     "name": "stdout",
     "output_type": "stream",
     "text": [
      "['2', 'quick', 'brown', 'foxes', 'jumpe', 'd', 'over', 'lazy', \"dog's\", 'bone']\n"
     ]
    }
   ],
   "source": [
    "doc = {\n",
    "  \"analyzer\": \"my_english_analyzer\",\n",
    "  \"text\": \"The 2 QUICK Brown-Foxes jumped over the lazy dog's bone.\"\n",
    "}\n",
    "import requests\n",
    "response = requests.post(f'{esHost}/products/_analyze', json=doc)\n",
    "responseJson = response.json()\n",
    "txt = responseJson\n",
    "\n",
    "saved_words = []\n",
    "for token in txt['tokens']:\n",
    "    saved_words.append(token['token'])\n",
    "\n",
    "print(saved_words)"
   ]
  },
  {
   "cell_type": "markdown",
   "id": "d841910d-9f59-4864-9d94-d1fc03ad018b",
   "metadata": {},
   "source": [
    "# Elasticsearch a fulltextové vyhledávání v češtině\n",
    "\n"
   ]
  },
  {
   "cell_type": "markdown",
   "id": "f08ccb85-0159-4e05-b996-ed9e86ccab0f",
   "metadata": {},
   "source": [
    "## Předdefinovaný český analyzér\n",
    "\n",
    "slova jsou převedena na malá písmena a ořezána o koncovky"
   ]
  },
  {
   "cell_type": "code",
   "execution_count": 2,
   "id": "4fbba09e-41b2-4237-a551-dbfc99ee35cb",
   "metadata": {
    "tags": []
   },
   "outputs": [
    {
     "name": "stdout",
     "output_type": "stream",
     "text": [
      "{\"acknowledged\":true}\n",
      "{'acknowledged': True, 'shards_acknowledged': True, 'index': 'products'}\n"
     ]
    }
   ],
   "source": [
    "import requests\n",
    "response = requests.delete(f'{esHost}/products')\n",
    "print(response.text)\n",
    "\n",
    "doc = {\n",
    "  \"settings\": {\n",
    "    \"index\": {\n",
    "      \"number_of_shards\": \"1\",\n",
    "      \"number_of_replicas\": \"0\",\n",
    "      \"analysis\": {\n",
    "        \"analyzer\": {\n",
    "          \"czech\": {\n",
    "            \"type\": \"czech\"\n",
    "          }\n",
    "        }\n",
    "      }\n",
    "    }\n",
    "  }\n",
    "}\n",
    "\n",
    "import requests\n",
    "response = requests.put(f'{esHost}/products', json=doc)\n",
    "responseJson = response.json()\n",
    "print(responseJson)"
   ]
  },
  {
   "cell_type": "markdown",
   "id": "8340270a-4ab5-4282-81b9-9a0cb3a20198",
   "metadata": {},
   "source": [
    "## Kontrola"
   ]
  },
  {
   "cell_type": "code",
   "execution_count": 4,
   "id": "ee373390-89d9-402f-bb75-496c5ff8304b",
   "metadata": {
    "tags": []
   },
   "outputs": [
    {
     "name": "stdout",
     "output_type": "stream",
     "text": [
      "['jahod', 'čerstv', 'vaničk']\n"
     ]
    }
   ],
   "source": [
    "doc = {\n",
    "  \"analyzer\": \"czech\",\n",
    "  \"text\": \"Jahody čerstvé - ve vaničce.\"\n",
    "}\n",
    "import requests\n",
    "response = requests.post(f'{esHost}/products/_analyze', json=doc)\n",
    "responseJson = response.json()\n",
    "txt = responseJson\n",
    "\n",
    "saved_words = []\n",
    "for token in txt['tokens']:\n",
    "    saved_words.append(token['token'])\n",
    "\n",
    "print(saved_words)"
   ]
  },
  {
   "cell_type": "markdown",
   "id": "ba70fa48-a8ae-4a61-81e7-bda7763b4af1",
   "metadata": {},
   "source": [
    "## Převod velkých písmen na malá\n",
    "\n",
    "Vytváříme **custom** analyzér s názvem **czech**\n",
    "\n",
    "tokenizer: **standard**\n",
    "\n",
    "    filter\": [\"lowercase\"]"
   ]
  },
  {
   "cell_type": "code",
   "execution_count": 5,
   "id": "2d5cfcd6-c89c-42e5-8c34-4795be1814b9",
   "metadata": {
    "tags": []
   },
   "outputs": [
    {
     "name": "stdout",
     "output_type": "stream",
     "text": [
      "{\"acknowledged\":true}\n",
      "{'acknowledged': True, 'shards_acknowledged': True, 'index': 'products'}\n"
     ]
    }
   ],
   "source": [
    "import requests\n",
    "response = requests.delete(f'{esHost}/products')\n",
    "print(response.text)\n",
    "\n",
    "doc = {\n",
    "  \"settings\": {\n",
    "    \"index\": {\n",
    "      \"number_of_shards\": \"1\",\n",
    "      \"number_of_replicas\": \"0\",\n",
    "      \"analysis\": {\n",
    "        \"analyzer\": {\n",
    "          \"czech\": {\n",
    "            \"type\": \"custom\",\n",
    "            \"tokenizer\": \"standard\",\n",
    "            \"filter\": [\"lowercase\"]\n",
    "          }\n",
    "        }\n",
    "      }\n",
    "    }\n",
    "  }\n",
    "}\n",
    "\n",
    "import requests\n",
    "response = requests.put(f'{esHost}/products', json=doc)\n",
    "responseJson = response.json()\n",
    "print(responseJson)"
   ]
  },
  {
   "cell_type": "markdown",
   "id": "277342a0-9273-49bc-a41a-f8ac372b9fab",
   "metadata": {},
   "source": [
    "## Kontrola"
   ]
  },
  {
   "cell_type": "code",
   "execution_count": 7,
   "id": "c30c438b-6692-4a7f-8065-b5fb31d73792",
   "metadata": {
    "tags": []
   },
   "outputs": [
    {
     "name": "stdout",
     "output_type": "stream",
     "text": [
      "['jahody', 'čerstvé', 've', 'vaničce']\n"
     ]
    }
   ],
   "source": [
    "doc = {\n",
    "  \"analyzer\": \"czech\",\n",
    "  \"text\": \"Jahody čerstvé - Ve Vaničce.\"\n",
    "}\n",
    "import requests\n",
    "response = requests.post(f'{esHost}/products/_analyze', json=doc)\n",
    "responseJson = response.json()\n",
    "txt = responseJson\n",
    "\n",
    "saved_words = []\n",
    "for token in txt['tokens']:\n",
    "    saved_words.append(token['token'])\n",
    "\n",
    "print(saved_words)"
   ]
  },
  {
   "cell_type": "markdown",
   "id": "4b00134d-564c-4750-b7e3-3c964cd92f64",
   "metadata": {},
   "source": [
    "## Odstranění diakritiky\n",
    "\n",
    "Pro odstranění diakritiky lze použít filer **asciifolding**, který nabízí elasticsearch, který převádí NE-ascii znaky na acii znaky (č->c, ř->r)\n",
    "Pokud bychom chtěli použít něco zajímavějšího, tak lze použít **icu-plugin**, který je instalovaný pomocí dockerfilu (například umírozenat spojení písmen c a h jako ch)\n",
    "\n",
    "tokenizer: **standard**\n",
    "\n",
    "filter: **asciifolding, lowercase**"
   ]
  },
  {
   "cell_type": "code",
   "execution_count": 8,
   "id": "d5dfbf65-66c2-4b7c-821a-92b5b221e40c",
   "metadata": {
    "tags": []
   },
   "outputs": [
    {
     "name": "stdout",
     "output_type": "stream",
     "text": [
      "{\"acknowledged\":true}\n",
      "{'acknowledged': True, 'shards_acknowledged': True, 'index': 'products'}\n"
     ]
    }
   ],
   "source": [
    "import requests\n",
    "response = requests.delete(f'{esHost}/products')\n",
    "print(response.text)\n",
    "\n",
    "doc = {\n",
    "  \"settings\": {\n",
    "    \"index\": {\n",
    "      \"number_of_shards\": \"1\",\n",
    "      \"number_of_replicas\": \"0\",\n",
    "      \"analysis\": {\n",
    "        \"analyzer\": {\n",
    "          \"czech\": {\n",
    "            \"type\": \"custom\",\n",
    "            \"tokenizer\": \"standard\",\n",
    "            \"filter\": [\"asciifolding\", \"lowercase\"]\n",
    "          }\n",
    "        }\n",
    "      }\n",
    "    }\n",
    "  }\n",
    "}\n",
    "\n",
    "import requests\n",
    "response = requests.put(f'{esHost}/products', json=doc)\n",
    "responseJson = response.json()\n",
    "print(responseJson)"
   ]
  },
  {
   "cell_type": "markdown",
   "id": "bae058de-3a02-4d2f-a530-44ed7a967806",
   "metadata": {},
   "source": [
    "## Kontrola"
   ]
  },
  {
   "cell_type": "code",
   "execution_count": 10,
   "id": "e852cee3-8ad2-4776-af31-d21f59b5ad41",
   "metadata": {
    "tags": []
   },
   "outputs": [
    {
     "name": "stdout",
     "output_type": "stream",
     "text": [
      "['jahody', 'cerstve', 've', 'vanicce']\n"
     ]
    }
   ],
   "source": [
    "doc = {\n",
    "  \"analyzer\": \"czech\",\n",
    "  \"text\": \"Jahody čerstvé - Ve Vaničce.\"\n",
    "}\n",
    "import requests\n",
    "response = requests.post(f'{esHost}/products/_analyze', json=doc)\n",
    "responseJson = response.json()\n",
    "txt = responseJson\n",
    "\n",
    "saved_words = []\n",
    "for token in txt['tokens']:\n",
    "    saved_words.append(token['token'])\n",
    "\n",
    "print(saved_words)"
   ]
  },
  {
   "cell_type": "markdown",
   "id": "878e68c9-c807-4e1d-932c-045d8dd83d21",
   "metadata": {},
   "source": [
    "## Tvarosolví\n",
    "### Algoritmická stemantizace\n",
    "\n",
    "elasticsearch nabízí český stemmer standartně k dispozici, je jen třeba ho přidat do nastavení jako filtr.\n",
    "\n",
    "Využívá pravidel daného jazyka ktetré definu algoritmus, je velmi rychlý převod, ale mohou vznikat nějaké chyby\n",
    "\n",
    ">do **analyzer** přidáme sekci **filter**\n",
    "    \n",
    "    \"filter\": {\n",
    "          \"czech_stemmer\": {\n",
    "            \"type\": \"stemmer\",\n",
    "            \"name\": \"czech\"\n",
    "          }"
   ]
  },
  {
   "cell_type": "code",
   "execution_count": 11,
   "id": "b215e9d6-7267-456f-bc7d-35ef06eacd9b",
   "metadata": {
    "tags": []
   },
   "outputs": [
    {
     "name": "stdout",
     "output_type": "stream",
     "text": [
      "{\"acknowledged\":true}\n",
      "{'acknowledged': True, 'shards_acknowledged': True, 'index': 'products'}\n"
     ]
    }
   ],
   "source": [
    "import requests\n",
    "response = requests.delete(f'{esHost}/products')\n",
    "print(response.text)\n",
    "\n",
    "doc = {\n",
    "  \"settings\": {\n",
    "    \"index\": {\n",
    "      \"number_of_shards\": \"1\",\n",
    "      \"number_of_replicas\": \"0\",\n",
    "      \"analysis\": {\n",
    "        \"analyzer\": {\n",
    "          \"czech\": {\n",
    "            \"type\": \"custom\",\n",
    "            \"tokenizer\": \"standard\",\n",
    "            \"filter\": [\n",
    "              \"czech_stemmer\", \n",
    "              \"asciifolding\", \n",
    "              \"lowercase\"\n",
    "            ]\n",
    "          }\n",
    "        },\n",
    "        \"filter\": {\n",
    "          \"czech_stemmer\": {\n",
    "            \"type\": \"stemmer\",\n",
    "            \"name\": \"czech\"\n",
    "          }\n",
    "        }\n",
    "      }\n",
    "    }\n",
    "  }\n",
    "}\n",
    "\n",
    "import requests\n",
    "response = requests.put(f'{esHost}/products', json=doc)\n",
    "responseJson = response.json()\n",
    "print(responseJson)"
   ]
  },
  {
   "cell_type": "code",
   "execution_count": 12,
   "id": "6293f399-ec46-4692-b09e-4ef64cbffe1e",
   "metadata": {
    "tags": []
   },
   "outputs": [
    {
     "name": "stdout",
     "output_type": "stream",
     "text": [
      "['jahod', 'cerstv', 've', 'vanick']\n"
     ]
    }
   ],
   "source": [
    "doc = {\n",
    "  \"analyzer\": \"czech\",\n",
    "  \"text\": \"Jahody čerstvé - Ve Vaničce.\"\n",
    "}\n",
    "import requests\n",
    "response = requests.post(f'{esHost}/products/_analyze', json=doc)\n",
    "responseJson = response.json()\n",
    "txt = responseJson\n",
    "\n",
    "saved_words = []\n",
    "for token in txt['tokens']:\n",
    "    saved_words.append(token['token'])\n",
    "\n",
    "print(saved_words)"
   ]
  },
  {
   "cell_type": "markdown",
   "id": "724a5c27-d83e-4801-9f0d-a2e182e5237d",
   "metadata": {},
   "source": [
    "## Stematizace pomocí slovníku\n",
    "\n",
    "Lze dosáhnout přesnějšího převodu slov, ES disponuje filtrem hunspell, který umí využívat volně dostupných slovníků (balík open office)\n",
    "\n",
    "hunspell (slovník) máme stažený v repozitáři a dále ho importujeme pomocí dockercompose\n",
    "\n",
    "PRO DOPŘESNĚNÍ - jako odpověd vznikne 2x jahoda, jelikož slovník vytvořil 2 slova (Jahoda a jahoda), které se teprve poté převedla na malá písmena (pro odstranění by bylo třeba obrátit pořadí)\n",
    "\n",
    ">Je třeba přidat filter\n",
    "\n",
    "    \"filter\": [\n",
    "              \"czech_hunspell\",\n",
    "              \"asciifolding\",\n",
    "              \"lowercase\"\n",
    "            ]\n",
    "          }\n",
    "        },\n",
    "        \"filter\": {\n",
    "          \"czech_hunspell\": {\n",
    "            \"type\": \"hunspell\",\n",
    "            \"locale\": \"cs_CZ\"\n",
    "          }"
   ]
  },
  {
   "cell_type": "code",
   "execution_count": 13,
   "id": "0c1dd743-7905-4e50-b449-47c56ba02e31",
   "metadata": {
    "tags": []
   },
   "outputs": [
    {
     "name": "stdout",
     "output_type": "stream",
     "text": [
      "{\"acknowledged\":true}\n",
      "{'acknowledged': True, 'shards_acknowledged': True, 'index': 'products'}\n"
     ]
    }
   ],
   "source": [
    "import requests\n",
    "response = requests.delete(f'{esHost}/products')\n",
    "print(response.text)\n",
    "\n",
    "doc = {\n",
    "  \"settings\": {\n",
    "    \"index\": {\n",
    "      \"number_of_shards\": \"1\",\n",
    "      \"number_of_replicas\": \"0\",\n",
    "      \"analysis\": {\n",
    "        \"analyzer\": {\n",
    "          \"czech\": {\n",
    "            \"type\": \"custom\",\n",
    "            \"tokenizer\": \"standard\",\n",
    "            \"filter\": [\n",
    "              \"czech_hunspell\",\n",
    "              \"asciifolding\",\n",
    "              \"lowercase\"\n",
    "            ]\n",
    "          }\n",
    "        },\n",
    "        \"filter\": {\n",
    "          \"czech_hunspell\": {\n",
    "            \"type\": \"hunspell\",\n",
    "            \"locale\": \"cs_CZ\"\n",
    "          }\n",
    "        }\n",
    "      }\n",
    "    }\n",
    "  }\n",
    "}\n",
    "\n",
    "import requests\n",
    "response = requests.put(f'{esHost}/products', json=doc)\n",
    "responseJson = response.json()\n",
    "print(responseJson)"
   ]
  },
  {
   "cell_type": "code",
   "execution_count": 14,
   "id": "434dddb8-467c-49b5-8aa0-05f4cad90f7a",
   "metadata": {
    "tags": []
   },
   "outputs": [
    {
     "name": "stdout",
     "output_type": "stream",
     "text": [
      "['jahoda', 'jahoda', 'cerstvy', 've', 'vanicka']\n"
     ]
    }
   ],
   "source": [
    "doc = {\n",
    "  \"analyzer\": \"czech\",\n",
    "  \"text\": \"Jahody čerstvé - Ve Vaničce.\"\n",
    "}\n",
    "import requests\n",
    "response = requests.post(f'{esHost}/products/_analyze', json=doc)\n",
    "responseJson = response.json()\n",
    "txt = responseJson\n",
    "\n",
    "saved_words = []\n",
    "for token in txt['tokens']:\n",
    "    saved_words.append(token['token'])\n",
    "\n",
    "print(saved_words)"
   ]
  },
  {
   "cell_type": "markdown",
   "id": "b1da272a-7e87-4b2e-bea7-0bcb3178ffbd",
   "metadata": {},
   "source": [
    "## Odstranění nevýznamných slov (stop slova)\n",
    "\n",
    "elastic search disponuje sadou pro češtinu v rámci filtru **stop**\n",
    "\n",
    "lze použít filre **lenght** a filtrovat podle jejich délky\n",
    "\n",
    "Při analýze vyhledávaného textu lze filtrovat duplicitní slova, jako ve výše uvedeném případě. Tedy duplicitní slova lze filtrovat pomocí filtru **unique** \n",
    "\n",
    "    \"filter\": {\r\n",
    "          \"czech_stop\": {\r\n",
    "            \"type\": \"stop\",\r\n",
    "            \"stopwords\": [\"že\", \"_czech_\"]\r\n",
    "          },\r\n",
    "          \"czech_length\": {\r\n",
    "            \"type\": \"length\",\r\n",
    "            \"min\": 2\r\n",
    "          },\r\n",
    "          \"czech_unique\": {\r\n",
    "            \"type\": \"unique\",\r\n",
    "            \"only_on_same_position\": true\r\n",
    "          }"
   ]
  },
  {
   "cell_type": "code",
   "execution_count": 15,
   "id": "6f61a4da-b001-4e9b-b91e-a230b7d3cfde",
   "metadata": {},
   "outputs": [
    {
     "name": "stdout",
     "output_type": "stream",
     "text": [
      "{\"acknowledged\":true}\n",
      "{'acknowledged': True, 'shards_acknowledged': True, 'index': 'products'}\n"
     ]
    }
   ],
   "source": [
    "import requests\n",
    "response = requests.delete(f'{esHost}/products')\n",
    "print(response.text)\n",
    "\n",
    "doc = {\n",
    "  \"settings\": {\n",
    "    \"index\": {\n",
    "      \"number_of_shards\": \"1\",\n",
    "      \"number_of_replicas\": \"0\",\n",
    "      \"analysis\": {\n",
    "        \"analyzer\": {\n",
    "          \"czech\": {\n",
    "            \"type\": \"custom\",\n",
    "            \"tokenizer\": \"standard\",\n",
    "            \"filter\": [\n",
    "              \"czech_stop\",\n",
    "              \"czech_length\",\n",
    "              \"czech_unique\"\n",
    "            ]\n",
    "          }\n",
    "        },\n",
    "        \"filter\": {\n",
    "          \"czech_stop\": {\n",
    "            \"type\": \"stop\",\n",
    "            \"stopwords\": [\"že\", \"_czech_\"]\n",
    "          },\n",
    "          \"czech_length\": {\n",
    "            \"type\": \"length\",\n",
    "            \"min\": 2\n",
    "          },\n",
    "          \"czech_unique\": {\n",
    "            \"type\": \"unique\",\n",
    "            \"only_on_same_position\": \"true\"\n",
    "          }\n",
    "        }\n",
    "      }\n",
    "    }\n",
    "  }\n",
    "}\n",
    "\n",
    "import requests\n",
    "response = requests.put(f'{esHost}/products', json=doc)\n",
    "responseJson = response.json()\n",
    "print(responseJson)"
   ]
  },
  {
   "cell_type": "code",
   "execution_count": 16,
   "id": "b7d46441-68bb-4ddb-92ef-bc01e1d486cf",
   "metadata": {},
   "outputs": [
    {
     "name": "stdout",
     "output_type": "stream",
     "text": [
      "['Jahody', 'čerstvé', 'Vaničce']\n"
     ]
    }
   ],
   "source": [
    "doc = {\n",
    "  \"analyzer\": \"czech\",\n",
    "  \"text\": \"Jahody čerstvé - ve Vaničce.\"\n",
    "}\n",
    "import requests\n",
    "response = requests.post(f'{esHost}/products/_analyze', json=doc)\n",
    "responseJson = response.json()\n",
    "txt = responseJson\n",
    "\n",
    "saved_words = []\n",
    "for token in txt['tokens']:\n",
    "    saved_words.append(token['token'])\n",
    "\n",
    "print(saved_words)"
   ]
  },
  {
   "cell_type": "markdown",
   "id": "854dd365-90c4-4f3d-b593-ecd889c2bac6",
   "metadata": {},
   "source": [
    "## Kompletní analyzér pro češtinu\n",
    "\n",
    "1. Odstraníme stop slova\n",
    "2. převedeme na malá písmena\n",
    "3. Odstraníme diakritiku\n",
    "4. Odstraníme duplicity\n",
    "\n",
    "PRO DOPŘESNĚNÍ - mapping analyzéru je od verze ES 8.0.0. a výše třeba definovat v settings nikoliv tako:\n",
    "> PUT products/_mapping/products\r\n",
    "{\r\n",
    "  \"products\": {\r\n",
    "    \"properties\": {\r\n",
    "      \"title\": {\r\n",
    "        \"type\": \"text\",\r\n",
    "        \"analyzer\": \"czech\"\r\n",
    "      }\r\n",
    "    }\r\n",
    "  }\r\n",
    "}\n"
   ]
  },
  {
   "cell_type": "code",
   "execution_count": 18,
   "id": "9a290655-f8e1-4f96-9149-14ceb2b7b94b",
   "metadata": {},
   "outputs": [
    {
     "name": "stdout",
     "output_type": "stream",
     "text": [
      "{\"acknowledged\":true}\n",
      "{'acknowledged': True, 'shards_acknowledged': True, 'index': 'products'}\n"
     ]
    }
   ],
   "source": [
    "import requests\n",
    "response = requests.delete(f'{esHost}/products')\n",
    "print(response.text)\n",
    "\n",
    "doc = {\n",
    "  \"settings\": {\n",
    "    \"index\": {\n",
    "      \"number_of_shards\": \"1\",\n",
    "      \"number_of_replicas\": \"0\",\n",
    "      \"analysis\": {\n",
    "        \"analyzer\": {\n",
    "          \"czech\": {\n",
    "            \"type\": \"custom\",\n",
    "            \"tokenizer\": \"standard\",\n",
    "            \"filter\": [\n",
    "              \"czech_stop\",\n",
    "              \"czech_hunspell\",\n",
    "              \"lowercase\",\n",
    "              \"czech_stop\",\n",
    "              \"icu_folding\",\n",
    "              \"unique_on_same_position\"\n",
    "            ]\n",
    "          }\n",
    "        },\n",
    "        \"filter\": {\n",
    "          \"czech_hunspell\": {\n",
    "            \"type\": \"hunspell\",\n",
    "            \"locale\": \"cs_CZ\"\n",
    "          },\n",
    "          \"czech_stop\": {\n",
    "            \"type\": \"stop\",\n",
    "            \"stopwords\": [\"že\", \"_czech_\"]\n",
    "          },\n",
    "          \"unique_on_same_position\": {\n",
    "            \"type\": \"unique\",\n",
    "            \"only_on_same_position\": \"true\"\n",
    "          }\n",
    "        }\n",
    "      }\n",
    "    }\n",
    "  },\n",
    "  \"mappings\": {\n",
    "    \"properties\": {\n",
    "      \"title\": {\n",
    "        \"type\": \"text\",\n",
    "        \"analyzer\": \"czech\"\n",
    "      }\n",
    "    }\n",
    "  }\n",
    "}\n",
    "\n",
    "import requests\n",
    "response = requests.put(f'{esHost}/products', json=doc)\n",
    "responseJson = response.json()\n",
    "print(responseJson)"
   ]
  },
  {
   "cell_type": "code",
   "execution_count": 19,
   "id": "3aadf43e-3e3a-408e-8a61-d3d9b669f8d2",
   "metadata": {},
   "outputs": [
    {
     "name": "stdout",
     "output_type": "stream",
     "text": [
      "0 {'title': 'Jahody čerstvé - ve vaničce'}\n",
      "{'_index': 'products', '_id': '0', '_version': 1, 'result': 'created', '_shards': {'total': 1, 'successful': 1, 'failed': 0}, '_seq_no': 0, '_primary_term': 1}\n",
      "1 {'title': 'Jahoda mražená'}\n",
      "{'_index': 'products', '_id': '1', '_version': 1, 'result': 'created', '_shards': {'total': 1, 'successful': 1, 'failed': 0}, '_seq_no': 1, '_primary_term': 1}\n",
      "2 {'title': 'Maliny - vanička'}\n",
      "{'_index': 'products', '_id': '2', '_version': 1, 'result': 'created', '_shards': {'total': 1, 'successful': 1, 'failed': 0}, '_seq_no': 2, '_primary_term': 1}\n"
     ]
    }
   ],
   "source": [
    "doc_list = [\n",
    "    {\"title\": \"Jahody čerstvé - ve vaničce\"},\n",
    "    {\"title\": \"Jahoda mražená\"},\n",
    "    {\"title\": \"Maliny - vanička\"}\n",
    "]\n",
    "\n",
    "import requests\n",
    "for index, line in enumerate(doc_list):\n",
    "    print(index, line)\n",
    "    response = requests.put(f'{esHost}/products/_doc/{index}', json=line)\n",
    "    responseJson = response.json()\n",
    "    print(responseJson)"
   ]
  },
  {
   "cell_type": "code",
   "execution_count": 20,
   "id": "ff13bf85-c3d2-4b2f-af55-09b9ef150a3a",
   "metadata": {},
   "outputs": [
    {
     "name": "stdout",
     "output_type": "stream",
     "text": [
      "['jahoda', 'cerstvy', 'vanicka']\n"
     ]
    }
   ],
   "source": [
    "doc = {\n",
    "  \"analyzer\": \"czech\",\n",
    "  \"text\": \"Jahody čerstvé - ve Vaničce.\"\n",
    "}\n",
    "import requests\n",
    "response = requests.post(f'{esHost}/products/_analyze', json=doc)\n",
    "responseJson = response.json()\n",
    "txt = responseJson\n",
    "\n",
    "saved_words = []\n",
    "for token in txt['tokens']:\n",
    "    saved_words.append(token['token'])\n",
    "\n",
    "print(saved_words)"
   ]
  },
  {
   "cell_type": "code",
   "execution_count": 21,
   "id": "d936aceb-fbe4-472d-a3d2-1151b4284d83",
   "metadata": {},
   "outputs": [
    {
     "name": "stdout",
     "output_type": "stream",
     "text": [
      "Jahoda mražená\n",
      "Jahody čerstvé - ve vaničce\n"
     ]
    }
   ],
   "source": [
    "doc = {\n",
    "   \"query\": {\n",
    "    \"match\": {\n",
    "      \"title\": \"jahody\"\n",
    "    }\n",
    "  }\n",
    "}\n",
    "\n",
    "import requests\n",
    "import json\n",
    "\n",
    "response = requests.post(f'{esHost}/products*/_search', json=doc)\n",
    "txt = response.text\n",
    "\n",
    "response_json = txt\n",
    "response_dict = json.loads(response_json)\n",
    "# Extract titles and convert to Czech language\n",
    "titles = [item[\"_source\"][\"title\"] for item in response_dict[\"hits\"][\"hits\"]]\n",
    "for title in titles:\n",
    "    print(title)"
   ]
  },
  {
   "cell_type": "code",
   "execution_count": 22,
   "id": "dad977b1-42b5-4a63-a905-c4cf532fbe4a",
   "metadata": {
    "scrolled": true
   },
   "outputs": [
    {
     "name": "stdout",
     "output_type": "stream",
     "text": [
      "Maliny - vanička\n",
      "Jahody čerstvé - ve vaničce\n"
     ]
    }
   ],
   "source": [
    "doc = {\n",
    "   \"query\": {\n",
    "    \"match\": {\n",
    "      \"title\": \"Vanička\"\n",
    "    }\n",
    "  }\n",
    "}\n",
    "\n",
    "import requests\n",
    "response = requests.post(f'{esHost}/products*/_search', json=doc)\n",
    "txt = response.text\n",
    "\n",
    "response_json = txt\n",
    "response_dict = json.loads(response_json)\n",
    "# Extract titles and convert to Czech language\n",
    "titles = [item[\"_source\"][\"title\"] for item in response_dict[\"hits\"][\"hits\"]]\n",
    "for title in titles:\n",
    "    print(title)"
   ]
  },
  {
   "cell_type": "markdown",
   "id": "993ffe09-8de6-4bd3-b349-21d5b876ccd2",
   "metadata": {},
   "source": [
    "# Pokročilé fulltextové vyhledávání v češtině\n",
    "\n",
    "Analyzér bude plnit tyto úkoly:\n",
    "1. Vyhledává primárně podle názvu produktu bez ohledu na tvarosloví\n",
    "2. Vyhledává podle názvu produktu s ohledem na tvarosloví\n",
    "3. Hledá v popistu prodkutu, ale s nejniší prioritou\n",
    "***\n",
    "Pro demonstaraci budou použity následující produkty:\n",
    "\n",
    "### **Produkt 1**\n",
    "* název: Jablka golden 1ks\n",
    "* popisek: Veškeré ovoce je prémiové kvality\n",
    "***\n",
    "### **Produkt 2**\n",
    "* název: Jablko idared\n",
    "* popisek: Kvalitní čerstvé ovoce\n",
    "***\n",
    "### **Produkt 3**\n",
    "* název: Musli\n",
    "* popisek: Křupavé musli s jablky\n",
    "***\n",
    "\n",
    "Tedy pro výraz *jablka* budeme očekávat jako první výsledek *Jablka golden 1ks* následeně *Jablko idared* a jako poslední *musli*, jelikož se v popisku produktu vyskytuje slovo *jablky*"
   ]
  },
  {
   "cell_type": "code",
   "execution_count": 23,
   "id": "42819298-7cca-40ab-9904-b746f6a1bdf5",
   "metadata": {},
   "outputs": [
    {
     "name": "stdout",
     "output_type": "stream",
     "text": [
      "{\"acknowledged\":true}\n",
      "{'acknowledged': True, 'shards_acknowledged': True, 'index': 'products'}\n"
     ]
    }
   ],
   "source": [
    "import requests\n",
    "response = requests.delete(f'{esHost}/products')\n",
    "print(response.text)\n",
    "\n",
    "doc = {\n",
    "  \"settings\": {\n",
    "    \"number_of_shards\": \"1\",\n",
    "    \"number_of_replicas\": \"0\",\n",
    "    \"analysis\": {\n",
    "      \"analyzer\": {\n",
    "        \"czech_hunspell_stopwords\": {\n",
    "          \"type\": \"custom\",\n",
    "          \"tokenizer\": \"standard\",\n",
    "          \"filter\": [\n",
    "            \"min_length\",\n",
    "            \"czech_stop\",\n",
    "            \"czech_hunspell\",\n",
    "            \"lowercase\",\n",
    "            \"czech_stop\",\n",
    "            \"icu_folding\",\n",
    "            \"unique_on_same_position\"\n",
    "          ]\n",
    "        },\n",
    "        \"czech_hunspell\": {\n",
    "          \"type\": \"custom\",\n",
    "          \"tokenizer\": \"standard\",\n",
    "          \"filter\": [\n",
    "            \"czech_hunspell\",\n",
    "            \"lowercase\",\n",
    "            \"icu_folding\",\n",
    "            \"unique_on_same_position\"\n",
    "          ]\n",
    "        },\n",
    "        \"czech_lowercase\": {\n",
    "          \"type\": \"custom\",\n",
    "          \"tokenizer\": \"standard\",\n",
    "          \"filter\": [\n",
    "            \"lowercase\",\n",
    "            \"icu_folding\"\n",
    "          ]\n",
    "        }\n",
    "      },\n",
    "      \"filter\": {\n",
    "        \"czech_hunspell\": {\n",
    "          \"type\": \"hunspell\",\n",
    "          \"locale\": \"cs_CZ\"\n",
    "        },\n",
    "        \"czech_stop\": {\n",
    "          \"type\": \"stop\",\n",
    "          \"stopwords\": [\n",
    "            \"že\",\n",
    "            \"_czech_\"\n",
    "          ]\n",
    "        },\n",
    "        \"unique_on_same_position\": {\n",
    "          \"type\": \"unique\",\n",
    "          \"only_on_same_position\": \"true\"\n",
    "        },\n",
    "        \"min_length\": {\n",
    "          \"type\": \"length\",\n",
    "          \"min\": 2\n",
    "        }\n",
    "      }\n",
    "    }\n",
    "  },\n",
    "  \"mappings\": {\n",
    "      \"properties\": {\n",
    "        \"title\": {\n",
    "          \"type\": \"keyword\",\n",
    "          \"fields\": {\n",
    "            \"czech_hunspell\": {\n",
    "              \"type\": \"text\",\n",
    "              \"analyzer\": \"czech_hunspell\"\n",
    "            },\n",
    "            \"czech_lowercase\": {\n",
    "              \"type\": \"text\",\n",
    "              \"analyzer\": \"czech_lowercase\"\n",
    "            }\n",
    "          }\n",
    "        },\n",
    "        \"description\": {\n",
    "          \"type\": \"text\",\n",
    "          \"analyzer\": \"czech_hunspell_stopwords\"\n",
    "        }\n",
    "      }\n",
    "    }\n",
    "}\n",
    "\n",
    "import requests\n",
    "response = requests.put(f'{esHost}/products', json=doc)\n",
    "responseJson = response.json()\n",
    "print(responseJson)"
   ]
  },
  {
   "cell_type": "code",
   "execution_count": 24,
   "id": "d9caf092-2656-436a-bcad-f4c4458d940b",
   "metadata": {},
   "outputs": [
    {
     "name": "stdout",
     "output_type": "stream",
     "text": [
      "0 {'title': 'Jablka golden 1 ks', 'description': 'Veškeré ovoce je prémiové kvality'}\n",
      "{'_index': 'products', '_id': '0', '_version': 1, 'result': 'created', '_shards': {'total': 1, 'successful': 1, 'failed': 0}, '_seq_no': 0, '_primary_term': 1}\n",
      "1 {'title': 'Jablko idared', 'description': 'Kvalitní a čerstvé ovoce'}\n",
      "{'_index': 'products', '_id': '1', '_version': 1, 'result': 'created', '_shards': {'total': 1, 'successful': 1, 'failed': 0}, '_seq_no': 1, '_primary_term': 1}\n",
      "2 {'title': 'Müsli', 'description': 'Křupavé müsli s jablky'}\n",
      "{'_index': 'products', '_id': '2', '_version': 1, 'result': 'created', '_shards': {'total': 1, 'successful': 1, 'failed': 0}, '_seq_no': 2, '_primary_term': 1}\n"
     ]
    }
   ],
   "source": [
    "doc_list = [\n",
    "    {\"title\": \"Jablka golden 1 ks\", \"description\": \"Veškeré ovoce je prémiové kvality\"},\n",
    "    {\"title\": \"Jablko idared\", \"description\": \"Kvalitní a čerstvé ovoce\"},\n",
    "    {\"title\": \"Müsli\", \"description\": \"Křupavé müsli s jablky\"}\n",
    "]\n",
    "\n",
    "import requests\n",
    "for index, line in enumerate(doc_list):\n",
    "    print(index, line)\n",
    "    response = requests.put(f'{esHost}/products/_doc/{index}', json=line)\n",
    "    responseJson = response.json()\n",
    "    print(responseJson)"
   ]
  },
  {
   "cell_type": "code",
   "execution_count": 27,
   "id": "f1857bad-f875-472a-aa52-dbc337962838",
   "metadata": {},
   "outputs": [
    {
     "name": "stdout",
     "output_type": "stream",
     "text": [
      "Jablko idared\n"
     ]
    }
   ],
   "source": [
    "doc = {\n",
    "   \"query\": {\n",
    "    \"multi_match\": {\n",
    "      \"query\": \"idared\", \n",
    "      \"fields\": [\n",
    "        \"title.czech_lowercase^2\",\n",
    "        \"title.czech_hunspell\",\n",
    "        \"description^0.3\"\n",
    "      ]\n",
    "    }\n",
    "  }\n",
    "}\n",
    "\n",
    "import requests\n",
    "response = requests.post(f'{esHost}/products*/_search', json=doc)\n",
    "txt = response.text\n",
    "\n",
    "response_json = txt\n",
    "response_dict = json.loads(response_json)s\n",
    "# Extract titles and convert to Czech language\n",
    "titles = [item[\"_source\"][\"title\"] for item in response_dict[\"hits\"][\"hits\"]]\n",
    "for title in titles:\n",
    "    print(title)"
   ]
  },
  {
   "cell_type": "markdown",
   "id": "52637776-c89c-42e2-9052-a09ee1f0ec13",
   "metadata": {},
   "source": [
    "v Query používáme *multi_match* místo *match*, a to kvůli tomu, že lze předat seznam více polí v nichž má vyhledávat (title.czech_lowercase, title.czech_hunspell, description)\n",
    "\n",
    "Zároveň lze definovat prioritu díky ^2 a ^0.3, kde se skóre při vyhledávání násobí dannou hodnotou a na zíkladě ní je vybráno"
   ]
  }
 ],
 "metadata": {
  "kernelspec": {
   "display_name": "Python 3 (ipykernel)",
   "language": "python",
   "name": "python3"
  },
  "language_info": {
   "codemirror_mode": {
    "name": "ipython",
    "version": 3
   },
   "file_extension": ".py",
   "mimetype": "text/x-python",
   "name": "python",
   "nbconvert_exporter": "python",
   "pygments_lexer": "ipython3",
   "version": "3.11.4"
  }
 },
 "nbformat": 4,
 "nbformat_minor": 5
}
