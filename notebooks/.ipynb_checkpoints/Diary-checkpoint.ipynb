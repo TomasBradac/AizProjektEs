{
 "cells": [
  {
   "cell_type": "markdown",
   "id": "6fc57d4d-f93f-4630-8252-de2b56778d6e",
   "metadata": {},
   "source": [
    "# Elasticsearch\n",
    "\n",
    "Součástí celého projektu jsou 3 konteinery\n",
    "**Elasticsearch**\n",
    "**Kibana**\n",
    "**Jupyter**\n",
    "\n",
    "**Elasticsearch**se používá pro samostatné fulltextové vyhledávání ve vytvořených dokumentech pomocí REST API (možné se dotazovat pomocí zadání odpovídající URL bez nutnosti stahování speciálního klienta)\n",
    "\n",
    "Elasticsearch není realční databáze, jedná se o dokumentové uložiště, kde *Dokument* je soubor ve formátu JSON, kam se ukládají data a v nichž bude probíhat vyhledávání. Samotný dokument je tvořen *Fields* různých datových typů. Elasticseach je vytváří sám na základě struktury dokumentu. Dokumenty jsou ukládány do *indexu* což je obdoba databázového schématu v relační databázi. V rámci indexu jsou definovány *type* (typy), který označuje skupinu dokumentů obdobného tvaru\n",
    "\n",
    "## Analogie ES a Relační databáze\n",
    "\n",
    "Elasticsearch             Relační databáze\n",
    "Index                     Databáze\n",
    "Typ                       Tabulka\n",
    "dokument                  Záznam\n",
    "Pole                      Atribut\n",
    "\n",
    "\n"
   ]
  }
 ],
 "metadata": {
  "kernelspec": {
   "display_name": "Python 3 (ipykernel)",
   "language": "python",
   "name": "python3"
  },
  "language_info": {
   "codemirror_mode": {
    "name": "ipython",
    "version": 3
   },
   "file_extension": ".py",
   "mimetype": "text/x-python",
   "name": "python",
   "nbconvert_exporter": "python",
   "pygments_lexer": "ipython3",
   "version": "3.11.4"
  }
 },
 "nbformat": 4,
 "nbformat_minor": 5
}
